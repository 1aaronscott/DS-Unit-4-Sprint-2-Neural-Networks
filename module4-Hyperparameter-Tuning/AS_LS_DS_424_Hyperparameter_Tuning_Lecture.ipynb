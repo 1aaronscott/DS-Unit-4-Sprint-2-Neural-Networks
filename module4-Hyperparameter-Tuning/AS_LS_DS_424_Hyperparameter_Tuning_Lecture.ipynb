{
 "cells": [
  {
   "cell_type": "markdown",
   "metadata": {
    "colab_type": "text",
    "id": "41TS0Sa0rDNx"
   },
   "source": [
    "Lambda School Data Science\n",
    "\n",
    "*Unit 4, Sprint 2, Module 4*\n",
    "\n",
    "---"
   ]
  },
  {
   "cell_type": "markdown",
   "metadata": {
    "colab_type": "text",
    "id": "41TS0Sa0rDNx"
   },
   "source": [
    "# Neural Networks & GPUs (Prepare)\n",
    "*aka Hyperparameter Tuning*\n",
    "\n",
    "*aka Big Servers for Big Problems*"
   ]
  },
  {
   "cell_type": "markdown",
   "metadata": {
    "colab_type": "text",
    "id": "41TS0Sa0rDNx"
   },
   "source": [
    "## Learning Objectives\n",
    "* <a href=\"#p1\">Part 1</a>: Describe the major hyperparemeters to tune\n",
    "* <a href=\"#p2\">Part 2</a>: Implement an experiment tracking framework\n",
    "* <a href=\"#p3\">Part 3</a>: Search the hyperparameter space using RandomSearch (Optional)"
   ]
  },
  {
   "cell_type": "markdown",
   "metadata": {},
   "source": [
    "# Hyperparameter Options (Learn)\n",
    "<a id=\"p1\"></a>"
   ]
  },
  {
   "cell_type": "markdown",
   "metadata": {},
   "source": [
    "## Overview\n",
    "\n",
    "Hyperparameter tuning is much more important with neural networks than it has been with any other models that we have considered up to this point. Other supervised learning models might have a couple of parameters, but neural networks can have dozens. These can substantially affect the accuracy of our models and although it can be a time consuming process is a necessary step when working with neural networks.\n",
    "​\n",
    "Hyperparameter tuning comes with a challenge. How can we compare models specified with different hyperparameters if our model's final error metric can vary somewhat erratically? How do we avoid just getting unlucky and selecting the wrong hyperparameter? This is a problem that to a certain degree we just have to live with as we test and test again. However, we can minimize it somewhat by pairing our experiments with Cross Validation to reduce the variance of our final accuracy values."
   ]
  },
  {
   "cell_type": "markdown",
   "metadata": {
    "colab_type": "text",
    "id": "0s0o2pqBs88q"
   },
   "source": [
    "### Load Boston Housing Data"
   ]
  },
  {
   "cell_type": "code",
   "execution_count": 1,
   "metadata": {},
   "outputs": [],
   "source": [
    "from tensorflow.keras.datasets import boston_housing\n",
    "\n",
    "(x_train, y_train), (x_test, y_test) = boston_housing.load_data()"
   ]
  },
  {
   "cell_type": "markdown",
   "metadata": {
    "colab_type": "text",
    "id": "Pm7zow5IvaTt"
   },
   "source": [
    "### Normalizing Input Data\n",
    "\n",
    "It's not 100% necessary to normalize/scale your input data before feeding it to a neural network, the network can learn the appropriate weights to deal with data of as long as it is numerically represented,  but it is recommended as it can help **make training faster** and **reduces the chances that gradient descent might get stuck in a local optimum**.\n",
    "\n",
    "<https://stackoverflow.com/questions/4674623/why-do-we-have-to-normalize-the-input-for-an-artificial-neural-network>"
   ]
  },
  {
   "cell_type": "code",
   "execution_count": null,
   "metadata": {
    "colab": {
     "base_uri": "https://localhost:8080/",
     "height": 235
    },
    "colab_type": "code",
    "id": "q5qDpUj9vZVw",
    "outputId": "ce27017a-b173-455d-954e-d462e17e66f4"
   },
   "outputs": [],
   "source": [
    "# reference code from previous lecture; not usable here\n",
    "from sklearn.preprocessing import StandardScaler\n",
    "\n",
    "# Split into X and y and turn into numpy arays\n",
    "y = df.MEDV.values\n",
    "X = df.drop(\"MEDV\", axis='columns').values\n",
    "\n",
    "# Scale input data\n",
    "scaler = StandardScaler()\n",
    "X = scaler.fit_transform(X)\n",
    "print(X)"
   ]
  },
  {
   "cell_type": "code",
   "execution_count": 2,
   "metadata": {},
   "outputs": [],
   "source": [
    "from sklearn.preprocessing import StandardScaler\n",
    "scaler = StandardScaler()\n",
    "x_train = scaler.fit_transform(x_train)\n",
    "x_test = scaler.transform(x_test)"
   ]
  },
  {
   "cell_type": "markdown",
   "metadata": {
    "colab_type": "text",
    "id": "l6hgCWbir90R"
   },
   "source": [
    "### Model Validation using an automatic verification Dataset\n",
    "\n",
    "Instead of doing seperate train test split class, Keras has a really nice feature that you can set the validation.data argument when fitting your model and Keras will take that portion of your test data and use it as a validation dataset. "
   ]
  },
  {
   "cell_type": "code",
   "execution_count": 3,
   "metadata": {
    "colab": {
     "base_uri": "https://localhost:8080/",
     "height": 1750
    },
    "colab_type": "code",
    "id": "GMXVfmzXp1Oo",
    "outputId": "b05e251e-508f-46e6-865b-f869ae2a5dc4"
   },
   "outputs": [
    {
     "name": "stdout",
     "output_type": "stream",
     "text": [
      "Train on 404 samples, validate on 102 samples\n",
      "Epoch 1/50\n",
      "404/404 [==============================] - 1s 3ms/sample - loss: 520.4545 - mse: 520.4546 - val_loss: 452.1835 - val_mse: 452.1835\n",
      "Epoch 2/50\n",
      "404/404 [==============================] - 0s 334us/sample - loss: 279.2156 - mse: 279.2155 - val_loss: 135.2460 - val_mse: 135.2459\n",
      "Epoch 3/50\n",
      "404/404 [==============================] - 0s 321us/sample - loss: 63.1712 - mse: 63.1712 - val_loss: 44.1926 - val_mse: 44.1926\n",
      "Epoch 4/50\n",
      "404/404 [==============================] - 0s 346us/sample - loss: 31.9302 - mse: 31.9302 - val_loss: 29.7332 - val_mse: 29.7332\n",
      "Epoch 5/50\n",
      "404/404 [==============================] - 0s 323us/sample - loss: 24.3998 - mse: 24.3998 - val_loss: 25.6438 - val_mse: 25.6438\n",
      "Epoch 6/50\n",
      "404/404 [==============================] - 0s 349us/sample - loss: 21.3601 - mse: 21.3601 - val_loss: 23.8271 - val_mse: 23.8271\n",
      "Epoch 7/50\n",
      "404/404 [==============================] - 0s 323us/sample - loss: 19.0156 - mse: 19.0156 - val_loss: 22.2407 - val_mse: 22.2407\n",
      "Epoch 8/50\n",
      "404/404 [==============================] - 0s 328us/sample - loss: 17.3608 - mse: 17.3608 - val_loss: 21.8043 - val_mse: 21.8043\n",
      "Epoch 9/50\n",
      "404/404 [==============================] - 0s 331us/sample - loss: 15.8711 - mse: 15.8711 - val_loss: 21.6074 - val_mse: 21.6074\n",
      "Epoch 10/50\n",
      "404/404 [==============================] - 0s 317us/sample - loss: 14.7707 - mse: 14.7707 - val_loss: 21.1962 - val_mse: 21.1962\n",
      "Epoch 11/50\n",
      "404/404 [==============================] - 0s 325us/sample - loss: 13.8392 - mse: 13.8392 - val_loss: 20.2830 - val_mse: 20.2830\n",
      "Epoch 12/50\n",
      "404/404 [==============================] - 0s 329us/sample - loss: 13.3469 - mse: 13.3469 - val_loss: 21.1145 - val_mse: 21.1145\n",
      "Epoch 13/50\n",
      "404/404 [==============================] - 0s 322us/sample - loss: 12.4941 - mse: 12.4941 - val_loss: 21.1332 - val_mse: 21.1332\n",
      "Epoch 14/50\n",
      "404/404 [==============================] - 0s 318us/sample - loss: 11.9999 - mse: 11.9999 - val_loss: 20.4973 - val_mse: 20.4973\n",
      "Epoch 15/50\n",
      "404/404 [==============================] - 0s 321us/sample - loss: 11.6033 - mse: 11.6033 - val_loss: 20.6173 - val_mse: 20.6173\n",
      "Epoch 16/50\n",
      "404/404 [==============================] - 0s 322us/sample - loss: 11.2191 - mse: 11.2191 - val_loss: 21.7935 - val_mse: 21.7935\n",
      "Epoch 17/50\n",
      "404/404 [==============================] - 0s 318us/sample - loss: 10.6995 - mse: 10.6995 - val_loss: 20.6446 - val_mse: 20.6446\n",
      "Epoch 18/50\n",
      "404/404 [==============================] - 0s 305us/sample - loss: 10.5645 - mse: 10.5645 - val_loss: 21.2305 - val_mse: 21.2305\n",
      "Epoch 19/50\n",
      "404/404 [==============================] - 0s 301us/sample - loss: 10.2925 - mse: 10.2925 - val_loss: 20.9389 - val_mse: 20.9389\n",
      "Epoch 20/50\n",
      "404/404 [==============================] - 0s 305us/sample - loss: 10.1019 - mse: 10.1019 - val_loss: 20.9857 - val_mse: 20.9857\n",
      "Epoch 21/50\n",
      "404/404 [==============================] - 0s 318us/sample - loss: 9.8273 - mse: 9.8273 - val_loss: 22.5786 - val_mse: 22.5786\n",
      "Epoch 22/50\n",
      "404/404 [==============================] - 0s 317us/sample - loss: 9.8186 - mse: 9.8186 - val_loss: 21.4637 - val_mse: 21.4637\n",
      "Epoch 23/50\n",
      "404/404 [==============================] - 0s 329us/sample - loss: 9.6107 - mse: 9.6107 - val_loss: 20.3237 - val_mse: 20.3237\n",
      "Epoch 24/50\n",
      "404/404 [==============================] - 0s 316us/sample - loss: 9.4461 - mse: 9.4461 - val_loss: 20.6687 - val_mse: 20.6687\n",
      "Epoch 25/50\n",
      "404/404 [==============================] - 0s 319us/sample - loss: 9.2960 - mse: 9.2960 - val_loss: 20.4809 - val_mse: 20.4809\n",
      "Epoch 26/50\n",
      "404/404 [==============================] - 0s 316us/sample - loss: 9.1419 - mse: 9.1419 - val_loss: 20.9303 - val_mse: 20.9303\n",
      "Epoch 27/50\n",
      "404/404 [==============================] - 0s 326us/sample - loss: 9.1089 - mse: 9.1089 - val_loss: 20.3036 - val_mse: 20.3036\n",
      "Epoch 28/50\n",
      "404/404 [==============================] - 0s 313us/sample - loss: 9.0443 - mse: 9.0443 - val_loss: 21.3547 - val_mse: 21.3547\n",
      "Epoch 29/50\n",
      "404/404 [==============================] - 0s 324us/sample - loss: 9.1255 - mse: 9.1255 - val_loss: 20.9138 - val_mse: 20.9138\n",
      "Epoch 30/50\n",
      "404/404 [==============================] - 0s 331us/sample - loss: 8.5842 - mse: 8.5842 - val_loss: 18.7698 - val_mse: 18.7698\n",
      "Epoch 31/50\n",
      "404/404 [==============================] - 0s 330us/sample - loss: 8.9018 - mse: 8.9018 - val_loss: 19.0077 - val_mse: 19.0077\n",
      "Epoch 32/50\n",
      "404/404 [==============================] - 0s 316us/sample - loss: 8.7424 - mse: 8.7424 - val_loss: 19.5559 - val_mse: 19.5559\n",
      "Epoch 33/50\n",
      "404/404 [==============================] - 0s 317us/sample - loss: 8.4780 - mse: 8.4780 - val_loss: 19.3726 - val_mse: 19.3726\n",
      "Epoch 34/50\n",
      "404/404 [==============================] - 0s 319us/sample - loss: 8.2493 - mse: 8.2493 - val_loss: 20.0754 - val_mse: 20.0754\n",
      "Epoch 35/50\n",
      "404/404 [==============================] - 0s 310us/sample - loss: 8.3185 - mse: 8.3185 - val_loss: 20.4285 - val_mse: 20.4285\n",
      "Epoch 36/50\n",
      "404/404 [==============================] - 0s 309us/sample - loss: 8.1416 - mse: 8.1416 - val_loss: 19.5388 - val_mse: 19.5388\n",
      "Epoch 37/50\n",
      "404/404 [==============================] - 0s 334us/sample - loss: 8.3179 - mse: 8.3179 - val_loss: 18.4026 - val_mse: 18.4026\n",
      "Epoch 38/50\n",
      "404/404 [==============================] - 0s 308us/sample - loss: 8.2369 - mse: 8.2369 - val_loss: 20.5032 - val_mse: 20.5032\n",
      "Epoch 39/50\n",
      "404/404 [==============================] - 0s 327us/sample - loss: 8.0870 - mse: 8.0870 - val_loss: 19.5799 - val_mse: 19.5799\n",
      "Epoch 40/50\n",
      "404/404 [==============================] - 0s 331us/sample - loss: 7.8026 - mse: 7.8026 - val_loss: 18.7327 - val_mse: 18.7327\n",
      "Epoch 41/50\n",
      "404/404 [==============================] - 0s 319us/sample - loss: 7.7128 - mse: 7.7128 - val_loss: 18.6315 - val_mse: 18.6315\n",
      "Epoch 42/50\n",
      "404/404 [==============================] - 0s 314us/sample - loss: 7.6125 - mse: 7.6125 - val_loss: 19.2489 - val_mse: 19.2489\n",
      "Epoch 43/50\n",
      "404/404 [==============================] - 0s 390us/sample - loss: 7.5490 - mse: 7.5490 - val_loss: 18.3956 - val_mse: 18.3956\n",
      "Epoch 44/50\n",
      "404/404 [==============================] - 0s 353us/sample - loss: 7.6882 - mse: 7.6882 - val_loss: 19.0111 - val_mse: 19.0111\n",
      "Epoch 45/50\n",
      "404/404 [==============================] - 0s 324us/sample - loss: 7.4567 - mse: 7.4567 - val_loss: 17.7967 - val_mse: 17.7967\n",
      "Epoch 46/50\n",
      "404/404 [==============================] - 0s 321us/sample - loss: 7.4245 - mse: 7.4245 - val_loss: 17.3451 - val_mse: 17.3451\n",
      "Epoch 47/50\n",
      "404/404 [==============================] - 0s 350us/sample - loss: 7.2977 - mse: 7.2977 - val_loss: 18.5264 - val_mse: 18.5264\n",
      "Epoch 48/50\n",
      "404/404 [==============================] - 0s 325us/sample - loss: 7.2098 - mse: 7.2098 - val_loss: 19.1315 - val_mse: 19.1315\n",
      "Epoch 49/50\n",
      "404/404 [==============================] - 0s 320us/sample - loss: 7.1431 - mse: 7.1431 - val_loss: 17.9377 - val_mse: 17.9377\n",
      "Epoch 50/50\n",
      "404/404 [==============================] - 0s 318us/sample - loss: 7.1431 - mse: 7.1431 - val_loss: 17.1223 - val_mse: 17.1223\n"
     ]
    },
    {
     "data": {
      "text/plain": [
       "<tensorflow.python.keras.callbacks.History at 0x7f4a70102da0>"
      ]
     },
     "execution_count": 3,
     "metadata": {},
     "output_type": "execute_result"
    }
   ],
   "source": [
    "from tensorflow import keras\n",
    "from tensorflow.keras.models import Sequential\n",
    "from tensorflow.keras.layers import Dense\n",
    "\n",
    "# Important Hyperparameters\n",
    "inputs = x_train.shape[1]\n",
    "epochs = 50\n",
    "batch_size = 10\n",
    "\n",
    "\n",
    "# Create Model\n",
    "model = Sequential()\n",
    "model.add(Dense(64, activation='relu', input_shape=(inputs,)))\n",
    "model.add(Dense(64, activation='relu'))\n",
    "model.add(Dense(1))\n",
    "# Compile Model\n",
    "model.compile(optimizer='adam', loss='mse', metrics=['mse'])\n",
    "\n",
    "# Fit Model\n",
    "\n",
    "model.fit(x_train, y_train, \n",
    "          validation_data=(x_test,y_test), \n",
    "          epochs=epochs, \n",
    "          batch_size=batch_size,\n",
    "          verbose=True\n",
    "         )"
   ]
  },
  {
   "cell_type": "markdown",
   "metadata": {
    "colab_type": "text",
    "id": "sYJ8t_ezHP4W"
   },
   "source": [
    "### Hyperparameter Tuning Approaches:\n",
    "\n",
    "#### 1) Babysitting AKA \"Grad Student Descent\".\n",
    "\n",
    "If you fiddled with any hyperparameters yesterday, this is basically what you did. This approach is 100% manual and is pretty common among researchers where finding that 1 exact specification that jumps your model to a level of accuracy never seen before is the difference between publishing and not publishing a paper. Of course the professors don't do this themselves, that's grunt work. This is also known as the fiddle with hyperparameters until you run out of time method.\n",
    "\n",
    "#### 2) Grid Search\n",
    "\n",
    "Grid Search is the Grad Student galaxy brain realization of: why don't I just specify all the experiments I want to run and let the computer try every possible combination of them while I go and grab lunch. This has a specific downside in that if I specify 5 hyperparameters with 5 options each then I've just created 5^5 combinations of hyperparameters to check. Which means that I have to train 3125 different versions of my model Then if I use 5-fold Cross Validation on that then my model has to run 15,525 times. This is the brute-force method of hyperparameter tuning, but it can be very profitable if done wisely. \n",
    "\n",
    "When using Grid Search here's what I suggest: don't use it to test combinations of different hyperparameters, only use it to test different specifications of **a single** hyperparameter. It's rare that combinations between different hyperparameters lead to big performance gains. You'll get 90-95% of the way there if you just Grid Search one parameter and take the best result, then retain that best result while you test another, and then retain the best specification from that while you train another. This at least makes the situation much more manageable and leads to pretty good results. \n",
    "\n",
    "#### 3) Random Search\n",
    "\n",
    "Do Grid Search for a couple of hours and you'll say to yourself - \"There's got to be a better way.\" Enter Random Search. For Random search you specify a hyperparameter space and it picks specifications from that randomly, tries them out, gives you the best results and says - That's going to have to be good enough, go home and spend time with your family. \n",
    "\n",
    "Grid Search treats every parameter as if it was equally important, but this just isn't the case, some are known to move the needle a lot more than others (we'll talk about that in a minute). Random Search allows searching to be specified along the most important parameter and experiments less along the dimensions of less important hyperparameters. The downside of Random search is that it won't find the absolute best hyperparameters, but it is much less costly to perform than Grid Search. \n",
    "\n",
    "#### 4) Bayesian Methods\n",
    "\n",
    "One thing that can make more manual methods like babysitting and gridsearch effective is that as the experimenter sees results he can then make updates to his future searches taking into account the results of past specifications. If only we could hyperparameter tune our hyperparameter tuning. Well, we kind of can. Enter Bayesian Optimization. Neural Networks are like an optimization problem within an optimization problem, and Bayesian Optimization is a search strategy that tries to take into account the results of past searches in order to improve future ones. This is the most advanced method but can be a little bit tricky to implement, but there are some early steps with `hyperas` which is Bayesian optimization wrapper for `keras`. "
   ]
  },
  {
   "cell_type": "markdown",
   "metadata": {
    "colab_type": "text",
    "id": "HfQ7D043OMMn"
   },
   "source": [
    "## What Hyperparameters are there to test?\n",
    "\n",
    "- batch_size\n",
    "- training epochs\n",
    "- optimization algorithms\n",
    "- learning rate\n",
    "- momentum\n",
    "- activation functions\n",
    "- dropout regularization\n",
    "- number of neurons in the hidden layer\n",
    "\n",
    "There are more, but these are the most important."
   ]
  },
  {
   "cell_type": "markdown",
   "metadata": {},
   "source": [
    "## Follow Along"
   ]
  },
  {
   "cell_type": "markdown",
   "metadata": {
    "colab_type": "text",
    "id": "Mri5-kXzVKAa"
   },
   "source": [
    "## Batch Size\n",
    "\n",
    "Batch size determines how many observations the model is shown before it calculates loss/error and updates the model weights via gradient descent. You're looking for a sweet spot here where you're showing it enough observations that you have enough information to updates the weights, but not such a large batch size that you don't get a lot of weight update iterations performed in a given epoch. Feed-forward Neural Networks aren't as sensitive to bach_size as other networks, but it is still an important hyperparameter to tune. Smaller batch sizes will also take longer to train. "
   ]
  },
  {
   "cell_type": "code",
   "execution_count": 4,
   "metadata": {
    "colab": {
     "base_uri": "https://localhost:8080/",
     "height": 13561
    },
    "colab_type": "code",
    "id": "2smXfriNAGn7",
    "outputId": "ae996575-78e2-43fb-9dbe-5d44aaf0b430"
   },
   "outputs": [
    {
     "name": "stderr",
     "output_type": "stream",
     "text": [
      "/usr/local/lib/python3.6/dist-packages/sklearn/model_selection/_split.py:1978: FutureWarning: The default value of cv will change from 3 to 5 in version 0.22. Specify it explicitly to silence this warning.\n",
      "  warnings.warn(CV_WARNING, FutureWarning)\n"
     ]
    },
    {
     "name": "stdout",
     "output_type": "stream",
     "text": [
      "Best: 0.6901041666666666 using {'batch_size': 10, 'epochs': 20}\n",
      "Means: 0.6901041666666666, Stdev: 0.006639348324990605 with: {'batch_size': 10, 'epochs': 20}\n",
      "Means: 0.6458333333333334, Stdev: 0.04063668368314384 with: {'batch_size': 20, 'epochs': 20}\n",
      "Means: 0.6588541666666666, Stdev: 0.025976480915703128 with: {'batch_size': 40, 'epochs': 20}\n",
      "Means: 0.5494791666666666, Stdev: 0.05106424883106141 with: {'batch_size': 60, 'epochs': 20}\n",
      "Means: 0.5598958333333334, Stdev: 0.1036608814452872 with: {'batch_size': 80, 'epochs': 20}\n",
      "Means: 0.5872395833333334, Stdev: 0.0416259566748588 with: {'batch_size': 100, 'epochs': 20}\n"
     ]
    }
   ],
   "source": [
    "import pandas as pd\n",
    "import numpy\n",
    "from sklearn.model_selection import GridSearchCV\n",
    "from tensorflow.keras.models import Sequential\n",
    "from tensorflow.keras.layers import Dense\n",
    "from tensorflow.keras.wrappers.scikit_learn import KerasClassifier\n",
    "\n",
    "# fix random seed for reproducibility\n",
    "seed = 7\n",
    "numpy.random.seed(seed)\n",
    "\n",
    "# load dataset\n",
    "url =\"https://raw.githubusercontent.com/jbrownlee/Datasets/master/pima-indians-diabetes.data.csv\"\n",
    "\n",
    "dataset = pd.read_csv(url, header=None).values\n",
    "\n",
    "# split into input (X) and output (Y) variables\n",
    "X = dataset[:,0:8]\n",
    "Y = dataset[:,8]\n",
    "\n",
    "# Function to create model, required for KerasClassifier\n",
    "def create_model():\n",
    "    # create model\n",
    "    model = Sequential()\n",
    "    model.add(Dense(12, input_dim=8, activation='relu'))\n",
    "    model.add(Dense(1, activation='sigmoid'))\n",
    "    # Compile model\n",
    "    model.compile(loss='binary_crossentropy', optimizer='adam', metrics=['accuracy'])\n",
    "    return model\n",
    "\n",
    "# create model\n",
    "model = KerasClassifier(build_fn=create_model, verbose=0)\n",
    "\n",
    "# define the grid search parameters\n",
    "# batch_size = [10, 20, 40, 60, 80, 100]\n",
    "# param_grid = dict(batch_size=batch_size, epochs=epochs)\n",
    "\n",
    "# define the grid search parameters\n",
    "param_grid = {'batch_size': [10, 20, 40, 60, 80, 100],\n",
    "              'epochs': [20]}\n",
    "\n",
    "# Create Grid Search\n",
    "grid = GridSearchCV(estimator=model, param_grid=param_grid, n_jobs=1)\n",
    "grid_result = grid.fit(X, Y)\n",
    "\n",
    "# Report Results\n",
    "print(f\"Best: {grid_result.best_score_} using {grid_result.best_params_}\")\n",
    "means = grid_result.cv_results_['mean_test_score']\n",
    "stds = grid_result.cv_results_['std_test_score']\n",
    "params = grid_result.cv_results_['params']\n",
    "for mean, stdev, param in zip(means, stds, params):\n",
    "    print(f\"Means: {mean}, Stdev: {stdev} with: {param}\") "
   ]
  },
  {
   "cell_type": "markdown",
   "metadata": {
    "colab_type": "text",
    "id": "pmABfjlvXbqi"
   },
   "source": [
    "## Epochs\n",
    "\n",
    "The number of training epochs has a large and direct affect on the accuracy, However, more epochs is almost always goign to better than less epochs. This means that if you tune this parameter at the beginning and try and maintain the same value all throughout your training, you're going to be waiting a long time for each iteration of GridSearch. I suggest picking a fixed moderat # of epochs all throughout your training and then Grid Searching this parameter at the very end. "
   ]
  },
  {
   "cell_type": "code",
   "execution_count": 5,
   "metadata": {
    "colab": {
     "base_uri": "https://localhost:8080/",
     "height": 26329
    },
    "colab_type": "code",
    "id": "bAmxP3N7TmFh",
    "outputId": "3ddb08c4-51ac-4eaa-ff39-143397024544"
   },
   "outputs": [
    {
     "name": "stdout",
     "output_type": "stream",
     "text": [
      "Best: 0.7239583333333334 using {'batch_size': 10, 'epochs': 200}\n",
      "Means: 0.66015625, Stdev: 0.01149968862803105 with: {'batch_size': 10, 'epochs': 20}\n",
      "Means: 0.6692708333333334, Stdev: 0.012889967365379772 with: {'batch_size': 10, 'epochs': 40}\n",
      "Means: 0.6940104166666666, Stdev: 0.020751793555350555 with: {'batch_size': 10, 'epochs': 60}\n",
      "Means: 0.7239583333333334, Stdev: 0.024359748611809513 with: {'batch_size': 10, 'epochs': 200}\n"
     ]
    }
   ],
   "source": [
    "# define the grid search parameters\n",
    "param_grid = {'batch_size': [10], # from previous cell's results\n",
    "              'epochs': [20, 40, 60,200]}\n",
    "\n",
    "# Create Grid Search\n",
    "grid = GridSearchCV(estimator=model, param_grid=param_grid, n_jobs=1)\n",
    "grid_result = grid.fit(X, Y)\n",
    "\n",
    "# Report Results\n",
    "print(f\"Best: {grid_result.best_score_} using {grid_result.best_params_}\")\n",
    "means = grid_result.cv_results_['mean_test_score']\n",
    "stds = grid_result.cv_results_['std_test_score']\n",
    "params = grid_result.cv_results_['params']\n",
    "for mean, stdev, param in zip(means, stds, params):\n",
    "    print(f\"Means: {mean}, Stdev: {stdev} with: {param}\")"
   ]
  },
  {
   "cell_type": "markdown",
   "metadata": {
    "colab_type": "text",
    "id": "EKcuY6OiaLfz"
   },
   "source": [
    "## Optimizer\n",
    "\n",
    "Remember that there's a different optimizers [keras optimizers](https://keras.io/optimizers/) / [tensor flow optimizers](https://www.tensorflow.org/api_docs/python/tf/keras/optimizers). At some point, take some time to read up on them a little bit. \"adam\" usually gives the best results. The thing to know about choosing an optimizer is that different optimizers have different hyperparameters like learning rate, momentum, etc. So based on the optimizer you choose you might also have to tune the learning rate and momentum of those optimizers after that. "
   ]
  },
  {
   "cell_type": "markdown",
   "metadata": {
    "colab_type": "text",
    "id": "DG3wq5iOaLig"
   },
   "source": [
    "## Learning Rate\n",
    "\n",
    "Remember that the Learning Rate is a hyperparameter that is specific to your gradient-descent based optimizer selection. A learning rate that is too high will cause divergent behavior, but a Learning Rate that is too low will fail to converge, again, you're looking for the sweet spot. I would start out tuning learning rates by orders of magnitude: [.001, .01, .1, .2, .3, .5] etc. I wouldn't go above .5, but you can try it and see what the behavior is like. \n",
    "\n",
    "Once you have narrowed it down, make the window even smaller and try it again. If after running the above specification your model reports that .1 is the best optimizer, then you should probably try things like [.05, .08, .1, .12, .15] to try and narrow it down. \n",
    "\n",
    "It can also be good to tune the number of epochs in combination with the learning rate since the number of iterations that you allow the learning rate to reach the minimum can determine if you have let it run long enough to converge to the minimum. "
   ]
  },
  {
   "cell_type": "markdown",
   "metadata": {
    "colab_type": "text",
    "id": "gNTBUWd1aLlA"
   },
   "source": [
    "## Momentum\n",
    "\n",
    "Momentum is a hyperparameter that is more commonly associated with Stochastic Gradient Descent. SGD is a common optimizer because it's what people understand and know, but I doubt it will get you the best results, you can try hyperparameter tuning its attributes and see if you can beat the performance from adam. Momentum is a property that decides the willingness of an optimizer to overshoot the minimum. Imagine a ball rolling down one side of a bowl and then up the opposite side a little bit before settling back to the bottom. The purpose of momentum is to try and escale local minima."
   ]
  },
  {
   "cell_type": "markdown",
   "metadata": {
    "colab_type": "text",
    "id": "xnEG-bCJaLnZ"
   },
   "source": [
    "## Activation Functions\n",
    "\n",
    "We've talked about this a little bit, typically you'l want to use ReLU for hidden layers and either Sigmoid, or Softmax for output layers of binary and multi-class classification implementations respectively, but try other activation functions and see if you can get any better results with sigmoid or tanh or something. There are a lot of activation functions that we haven't really talked about. Maybe you'll get good results with them. Maybe you won't. :) <https://keras.io/activations/>"
   ]
  },
  {
   "cell_type": "markdown",
   "metadata": {
    "colab_type": "text",
    "id": "oul9sPq-dU-h"
   },
   "source": [
    "## Network Weight Initialization\n",
    "\n",
    "You saw how big of an effect the way that we initialize our network's weights can have on our results. There are **a lot** of what are called initialization modes. I don't understand all of them, but they can have a big affect on your model's initial accuracy. Your model will get further with less epochs if you initialize it with weights that are well suited to the problem you're trying to solve.\n",
    "\n",
    "`init_mode = ['uniform', 'lecun_uniform', 'normal', 'zero', 'glorot_normal', 'glorot_uniform', 'he_normal', 'he_uniform']`"
   ]
  },
  {
   "cell_type": "markdown",
   "metadata": {
    "colab_type": "text",
    "id": "bqtEuxeQaLqE"
   },
   "source": [
    "## Dropout Regularization and the Weight Constraint\n",
    "\n",
    "the Dropout Regularization value is a percentage of neurons that you want to be randomly deactivated during training. The weight constraint is a second regularization parameter that works in tandem with dropout regularization. You should tune these two values at the same time. \n",
    "\n",
    "Using dropout on visible vs hidden layers might have a different effect. Using dropout on hidden layers might not have any effect while using dropout on hidden layers might have a substantial effect. You don't necessarily need to turn use dropout unless you see that your model has overfitting and generalizability problems."
   ]
  },
  {
   "cell_type": "markdown",
   "metadata": {
    "colab_type": "text",
    "id": "P2c5Cv6oaLtO"
   },
   "source": [
    "## Neurons in Hidden Layer \n",
    "\n",
    "Remember that when we only had a single perceptron our model was only able to fit to linearly separable data, but as we have added layers and nodes to those layers our network has become a powerhouse of fitting nonlinearity in data. The larger the network and the more nodes generally the stronger the network's capacity to fit nonlinear patterns in data. The more nodes and layers the longer it will take to train a network, and higher the probability of overfitting. The larger your network gets the more you'll need dropout regularization or other regularization techniques to keep it in check. \n",
    "\n",
    "Typically depth (more layers) is more important than width (more nodes) for neural networks. This is part of why Deep Learning is so highly touted. Certain deep learning architectures have truly been huge breakthroughs for certain machine learning tasks. \n",
    "\n",
    "You might borrow ideas from other network architectures. For example if I was doing image recognition and I wasn't taking cues from state of the art architectures like resnet, alexnet, googlenet, etc. Then I'm probably going to have to do a lot more experimentation on my own before I find something that works.\n",
    "\n",
    "There are some heuristics, but I am highly skeptical of them. I think you're better off experimenting on your own and forming your own intuition for these kinds of problems. \n",
    "\n",
    "- https://machinelearningmastery.com/how-to-configure-the-number-of-layers-and-nodes-in-a-neural-network/"
   ]
  },
  {
   "cell_type": "markdown",
   "metadata": {},
   "source": [
    "## Challenge\n",
    "You will be expected to tune several hyperparameters in today's module project. "
   ]
  },
  {
   "cell_type": "markdown",
   "metadata": {},
   "source": [
    "# Experiment Tracking Framework (Learn)\n",
    "<a id=\"p2\"></a>"
   ]
  },
  {
   "cell_type": "markdown",
   "metadata": {},
   "source": [
    "## Overview\n",
    "\n",
    "You will notice quickly that managing the results of all the experiments you are running becomes challenging. Which set of parameters did the best? Are my results today different than my results yesterday? Although we use Ipython Notebooks to work, the format is not well suited to logging experimental results. Enter experiment tracking frameworks like [Comet.ml](https://comet.ml) and [Weights and Biases](https://wandb.ai/).\n",
    "\n",
    "Those tools will help you track your experiments, store the results, and the code associated with those experiments. Experimental results can also be readily visualized to see changes in performance across any metric you care about. Data is sent to the tool as each epoch is completed, so you can also see if your model is converging. Let's check out Weights & Biases today. "
   ]
  },
  {
   "cell_type": "markdown",
   "metadata": {},
   "source": [
    "## Follow Along\n",
    "\n",
    "Make sure you login into `wandb` in the terminal before running the next cell. "
   ]
  },
  {
   "cell_type": "code",
   "execution_count": 6,
   "metadata": {},
   "outputs": [
    {
     "data": {
      "text/html": [
       "\n",
       "            Notebook configured with <a href=\"https://wandb.com\" target=\"_blank\">W&B</a>. You can <a href=\"https://app.wandb.ai/lambda-ds6/boston/runs/nyix2l5u\" target=\"_blank\">open</a> the run page, or call <code>%%wandb</code>\n",
       "            in a cell containing your training loop to display live results.  Learn more in our <a href=\"https://docs.wandb.com/docs/integrations/jupyter.html\" target=\"_blank\">docs</a>.\n",
       "        "
      ],
      "text/plain": [
       "<IPython.core.display.HTML object>"
      ]
     },
     "metadata": {},
     "output_type": "display_data"
    },
    {
     "data": {
      "text/plain": [
       "W&B Run: https://app.wandb.ai/lambda-ds6/boston/runs/nyix2l5u"
      ]
     },
     "execution_count": 6,
     "metadata": {},
     "output_type": "execute_result"
    }
   ],
   "source": [
    "import wandb\n",
    "from wandb.keras import WandbCallback\n",
    "wandb.init(project=\"boston\", entity=\"lambda-ds6\") #initializes an experiment"
   ]
  },
  {
   "cell_type": "code",
   "execution_count": null,
   "metadata": {
    "colab": {
     "base_uri": "https://localhost:8080/",
     "height": 1750
    },
    "colab_type": "code",
    "id": "GMXVfmzXp1Oo",
    "outputId": "b05e251e-508f-46e6-865b-f869ae2a5dc4"
   },
   "outputs": [],
   "source": [
    "# Important Hyperparameters\n",
    "X=x_train\n",
    "y=y_train\n",
    "\n",
    "inputs = X.shape[1]\n",
    "wandb.config.epochs = 50\n",
    "wandb.config.batch_size = 10\n",
    "\n",
    "\n",
    "# Create Model\n",
    "model = Sequential()\n",
    "model.add(Dense(64, activation='relu', input_shape=(inputs,)))\n",
    "model.add(Dense(64, activation='relu'))\n",
    "model.add(Dense(1))\n",
    "# Compile Model\n",
    "model.compile(optimizer='adam', loss='mse', metrics=['mse', 'mae'])\n",
    "\n",
    "# Fit Model\n",
    "\n",
    "model.fit(X, y, \n",
    "          validation_split=0.33, \n",
    "          epochs=wandb.config.epochs, \n",
    "          batch_size=wandb.config.batch_size, \n",
    "          callbacks=[WandbCallback()]\n",
    "         )"
   ]
  },
  {
   "cell_type": "markdown",
   "metadata": {},
   "source": [
    "## Challenge\n",
    "\n",
    "You will be expected to use Weights & Biases to try to tune your model during your module assignment today. "
   ]
  },
  {
   "cell_type": "markdown",
   "metadata": {},
   "source": [
    "# Hyperparameters with RandomSearchCV (Learn)"
   ]
  },
  {
   "cell_type": "markdown",
   "metadata": {},
   "source": [
    "## Overview\n",
    "\n",
    "Basically `GridSearchCV` takes forever. You'll want to adopt a slightly more sophiscated strategy."
   ]
  },
  {
   "cell_type": "markdown",
   "metadata": {},
   "source": [
    "## Follow Along"
   ]
  },
  {
   "cell_type": "code",
   "execution_count": null,
   "metadata": {},
   "outputs": [],
   "source": [
    "# Optional If we Get Here"
   ]
  },
  {
   "cell_type": "code",
   "execution_count": 10,
   "metadata": {},
   "outputs": [
    {
     "data": {
      "text/html": [
       "\n",
       "            Notebook configured with <a href=\"https://wandb.com\" target=\"_blank\">W&B</a>. You can <a href=\"https://app.wandb.ai/lambda-ds6/boston/runs/0m1qanxt\" target=\"_blank\">open</a> the run page, or call <code>%%wandb</code>\n",
       "            in a cell containing your training loop to display live results.  Learn more in our <a href=\"https://docs.wandb.com/docs/integrations/jupyter.html\" target=\"_blank\">docs</a>.\n",
       "        "
      ],
      "text/plain": [
       "<IPython.core.display.HTML object>"
      ]
     },
     "metadata": {},
     "output_type": "display_data"
    },
    {
     "name": "stdout",
     "output_type": "stream",
     "text": [
      "Train on 270 samples, validate on 134 samples\n",
      "Epoch 1/50\n",
      "270/270 [==============================] - 1s 2ms/sample - loss: 1292.3223 - mse: 1292.3223 - mae: 24.9151 - val_loss: 205.3994 - val_mse: 205.3994 - val_mae: 10.3315\n",
      "Epoch 2/50\n",
      "270/270 [==============================] - 0s 488us/sample - loss: 119.0490 - mse: 119.0490 - mae: 8.1337 - val_loss: 108.5923 - val_mse: 108.5923 - val_mae: 7.2870\n",
      "Epoch 3/50\n",
      "270/270 [==============================] - 0s 475us/sample - loss: 70.1379 - mse: 70.1379 - mae: 6.0557 - val_loss: 95.9432 - val_mse: 95.9432 - val_mae: 7.3947\n",
      "Epoch 4/50\n",
      "270/270 [==============================] - 0s 384us/sample - loss: 62.4469 - mse: 62.4469 - mae: 5.5199 - val_loss: 97.1099 - val_mse: 97.1099 - val_mae: 7.7722\n",
      "Epoch 5/50\n",
      "270/270 [==============================] - 0s 523us/sample - loss: 69.5677 - mse: 69.5676 - mae: 6.2834 - val_loss: 95.0848 - val_mse: 95.0848 - val_mae: 6.7352\n",
      "Epoch 6/50\n",
      "270/270 [==============================] - 0s 511us/sample - loss: 59.1151 - mse: 59.1151 - mae: 5.3538 - val_loss: 89.0536 - val_mse: 89.0536 - val_mae: 6.8303\n",
      "Epoch 7/50\n",
      "270/270 [==============================] - 0s 473us/sample - loss: 56.8914 - mse: 56.8914 - mae: 5.3276 - val_loss: 85.6820 - val_mse: 85.6820 - val_mae: 6.8602\n",
      "Epoch 8/50\n",
      "270/270 [==============================] - 0s 482us/sample - loss: 57.1676 - mse: 57.1676 - mae: 5.2737 - val_loss: 84.1151 - val_mse: 84.1152 - val_mae: 6.9246\n",
      "Epoch 9/50\n",
      "270/270 [==============================] - 0s 481us/sample - loss: 56.6493 - mse: 56.6493 - mae: 5.4573 - val_loss: 82.9986 - val_mse: 82.9986 - val_mae: 6.3143\n",
      "Epoch 10/50\n",
      "270/270 [==============================] - 0s 484us/sample - loss: 55.2547 - mse: 55.2547 - mae: 5.1487 - val_loss: 81.2687 - val_mse: 81.2687 - val_mae: 6.6442\n",
      "Epoch 11/50\n",
      "270/270 [==============================] - 0s 466us/sample - loss: 51.4991 - mse: 51.4991 - mae: 5.0493 - val_loss: 79.2540 - val_mse: 79.2540 - val_mae: 6.6485\n",
      "Epoch 12/50\n",
      "270/270 [==============================] - 0s 367us/sample - loss: 50.3512 - mse: 50.3512 - mae: 5.0126 - val_loss: 87.5734 - val_mse: 87.5734 - val_mae: 5.7424\n",
      "Epoch 13/50\n",
      "270/270 [==============================] - 0s 477us/sample - loss: 48.2613 - mse: 48.2613 - mae: 4.6855 - val_loss: 76.4733 - val_mse: 76.4733 - val_mae: 6.4586\n",
      "Epoch 14/50\n",
      "270/270 [==============================] - 0s 374us/sample - loss: 51.0875 - mse: 51.0875 - mae: 5.3681 - val_loss: 105.7873 - val_mse: 105.7873 - val_mae: 6.5674\n",
      "Epoch 15/50\n",
      "270/270 [==============================] - 0s 559us/sample - loss: 48.1888 - mse: 48.1888 - mae: 4.9847 - val_loss: 75.5812 - val_mse: 75.5812 - val_mae: 5.7299\n",
      "Epoch 16/50\n",
      "270/270 [==============================] - 0s 422us/sample - loss: 43.6416 - mse: 43.6416 - mae: 4.5802 - val_loss: 76.9494 - val_mse: 76.9494 - val_mae: 6.6394\n",
      "Epoch 17/50\n",
      "270/270 [==============================] - 0s 506us/sample - loss: 44.7142 - mse: 44.7142 - mae: 4.7497 - val_loss: 73.6957 - val_mse: 73.6957 - val_mae: 5.4822\n",
      "Epoch 18/50\n",
      "270/270 [==============================] - 0s 516us/sample - loss: 42.9207 - mse: 42.9207 - mae: 4.4354 - val_loss: 69.3903 - val_mse: 69.3903 - val_mae: 5.6273\n",
      "Epoch 19/50\n",
      "270/270 [==============================] - 0s 495us/sample - loss: 44.1199 - mse: 44.1199 - mae: 4.4751 - val_loss: 69.1694 - val_mse: 69.1695 - val_mae: 5.6250\n",
      "Epoch 20/50\n",
      "270/270 [==============================] - 0s 407us/sample - loss: 47.7033 - mse: 47.7033 - mae: 5.2048 - val_loss: 69.4317 - val_mse: 69.4317 - val_mae: 5.3200\n",
      "Epoch 21/50\n",
      "270/270 [==============================] - 0s 522us/sample - loss: 40.0471 - mse: 40.0471 - mae: 4.4090 - val_loss: 64.6005 - val_mse: 64.6005 - val_mae: 5.3079\n",
      "Epoch 22/50\n",
      "270/270 [==============================] - 0s 418us/sample - loss: 39.2846 - mse: 39.2846 - mae: 4.3347 - val_loss: 64.9314 - val_mse: 64.9314 - val_mae: 5.4973\n",
      "Epoch 23/50\n",
      "270/270 [==============================] - 0s 416us/sample - loss: 37.5682 - mse: 37.5682 - mae: 4.3012 - val_loss: 66.7196 - val_mse: 66.7196 - val_mae: 5.1246\n",
      "Epoch 24/50\n",
      "270/270 [==============================] - 0s 509us/sample - loss: 35.0616 - mse: 35.0616 - mae: 4.0423 - val_loss: 63.2910 - val_mse: 63.2910 - val_mae: 5.2050\n",
      "Epoch 25/50\n",
      "270/270 [==============================] - 0s 534us/sample - loss: 36.0042 - mse: 36.0042 - mae: 4.1306 - val_loss: 60.8078 - val_mse: 60.8078 - val_mae: 5.0683\n",
      "Epoch 26/50\n",
      "270/270 [==============================] - 0s 403us/sample - loss: 34.5083 - mse: 34.5083 - mae: 4.1655 - val_loss: 69.8674 - val_mse: 69.8674 - val_mae: 5.2113\n",
      "Epoch 27/50\n",
      "270/270 [==============================] - 0s 418us/sample - loss: 35.4819 - mse: 35.4819 - mae: 4.1906 - val_loss: 62.9882 - val_mse: 62.9882 - val_mae: 4.9740\n",
      "Epoch 28/50\n",
      "270/270 [==============================] - 0s 413us/sample - loss: 33.8973 - mse: 33.8973 - mae: 4.1046 - val_loss: 61.8582 - val_mse: 61.8582 - val_mae: 4.9670\n",
      "Epoch 29/50\n",
      "270/270 [==============================] - 0s 522us/sample - loss: 36.0575 - mse: 36.0575 - mae: 4.2630 - val_loss: 57.3975 - val_mse: 57.3975 - val_mae: 4.9115\n",
      "Epoch 30/50\n",
      "270/270 [==============================] - 0s 413us/sample - loss: 34.5289 - mse: 34.5289 - mae: 4.0425 - val_loss: 62.7950 - val_mse: 62.7950 - val_mae: 6.2831\n",
      "Epoch 31/50\n",
      "270/270 [==============================] - 0s 517us/sample - loss: 39.0155 - mse: 39.0155 - mae: 4.5309 - val_loss: 55.7759 - val_mse: 55.7759 - val_mae: 5.1963\n",
      "Epoch 32/50\n",
      "270/270 [==============================] - 0s 524us/sample - loss: 46.8010 - mse: 46.8010 - mae: 5.0665 - val_loss: 55.2131 - val_mse: 55.2131 - val_mae: 5.0129\n",
      "Epoch 33/50\n",
      "270/270 [==============================] - 0s 423us/sample - loss: 30.8947 - mse: 30.8947 - mae: 4.0558 - val_loss: 56.1842 - val_mse: 56.1842 - val_mae: 5.7034\n",
      "Epoch 34/50\n",
      "270/270 [==============================] - 0s 394us/sample - loss: 32.8235 - mse: 32.8235 - mae: 4.0672 - val_loss: 57.5036 - val_mse: 57.5036 - val_mae: 5.3257\n",
      "Epoch 35/50\n",
      "270/270 [==============================] - 0s 384us/sample - loss: 36.5343 - mse: 36.5343 - mae: 4.4416 - val_loss: 74.8290 - val_mse: 74.8290 - val_mae: 5.5435\n",
      "Epoch 36/50\n",
      "270/270 [==============================] - 0s 400us/sample - loss: 46.3820 - mse: 46.3820 - mae: 5.3974 - val_loss: 57.8245 - val_mse: 57.8245 - val_mae: 5.3138\n",
      "Epoch 37/50\n",
      "270/270 [==============================] - 0s 498us/sample - loss: 30.5550 - mse: 30.5550 - mae: 3.9448 - val_loss: 54.6718 - val_mse: 54.6718 - val_mae: 4.6303\n",
      "Epoch 38/50\n",
      "270/270 [==============================] - 0s 516us/sample - loss: 29.9308 - mse: 29.9307 - mae: 3.8803 - val_loss: 53.4533 - val_mse: 53.4533 - val_mae: 4.6525\n",
      "Epoch 39/50\n",
      "270/270 [==============================] - 0s 432us/sample - loss: 34.5827 - mse: 34.5827 - mae: 4.1443 - val_loss: 66.3468 - val_mse: 66.3468 - val_mae: 5.0807\n",
      "Epoch 40/50\n",
      "270/270 [==============================] - 0s 533us/sample - loss: 33.6322 - mse: 33.6322 - mae: 4.1800 - val_loss: 52.0195 - val_mse: 52.0195 - val_mae: 4.9950\n",
      "Epoch 41/50\n",
      "270/270 [==============================] - 0s 415us/sample - loss: 32.0395 - mse: 32.0395 - mae: 4.0815 - val_loss: 53.4248 - val_mse: 53.4248 - val_mae: 4.7088\n",
      "Epoch 42/50\n",
      "270/270 [==============================] - 0s 411us/sample - loss: 35.9055 - mse: 35.9055 - mae: 4.6272 - val_loss: 54.4179 - val_mse: 54.4179 - val_mae: 5.6544\n",
      "Epoch 43/50\n",
      "270/270 [==============================] - 0s 399us/sample - loss: 32.5067 - mse: 32.5067 - mae: 4.0564 - val_loss: 57.6700 - val_mse: 57.6700 - val_mae: 4.7467\n",
      "Epoch 44/50\n",
      "270/270 [==============================] - 0s 403us/sample - loss: 27.2166 - mse: 27.2166 - mae: 3.6457 - val_loss: 54.6983 - val_mse: 54.6983 - val_mae: 4.5072\n",
      "Epoch 45/50\n",
      "270/270 [==============================] - 0s 564us/sample - loss: 34.0574 - mse: 34.0574 - mae: 4.3057 - val_loss: 51.8236 - val_mse: 51.8236 - val_mae: 4.4611\n",
      "Epoch 46/50\n",
      "270/270 [==============================] - 0s 404us/sample - loss: 36.0853 - mse: 36.0853 - mae: 4.6369 - val_loss: 74.3725 - val_mse: 74.3725 - val_mae: 5.6933\n",
      "Epoch 47/50\n",
      "270/270 [==============================] - 0s 396us/sample - loss: 31.8094 - mse: 31.8094 - mae: 4.1114 - val_loss: 52.7655 - val_mse: 52.7655 - val_mae: 4.5800\n",
      "Epoch 48/50\n",
      "270/270 [==============================] - 0s 522us/sample - loss: 29.5380 - mse: 29.5380 - mae: 3.8736 - val_loss: 49.6080 - val_mse: 49.6080 - val_mae: 5.1382\n",
      "Epoch 49/50\n",
      "270/270 [==============================] - 0s 419us/sample - loss: 29.4825 - mse: 29.4825 - mae: 3.9474 - val_loss: 54.6151 - val_mse: 54.6151 - val_mae: 4.6429\n",
      "Epoch 50/50\n",
      "270/270 [==============================] - 0s 418us/sample - loss: 31.1592 - mse: 31.1592 - mae: 3.9933 - val_loss: 59.5220 - val_mse: 59.5220 - val_mae: 4.6715\n",
      "CPU times: user 7.74 s, sys: 1.2 s, total: 8.94 s\n",
      "Wall time: 7.67 s\n"
     ]
    },
    {
     "data": {
      "text/plain": [
       "<tensorflow.python.keras.callbacks.History at 0x7fc3a8e56fd0>"
      ]
     },
     "execution_count": 10,
     "metadata": {},
     "output_type": "execute_result"
    }
   ],
   "source": [
    "%%time\n",
    "import wandb\n",
    "from wandb.keras import WandbCallback\n",
    "from tensorflow.keras.optimizers import Adam\n",
    "\n",
    "wandb.init(project=\"boston\", entity=\"lambda-ds6\") #initializes an experiment\n",
    "\n",
    "# Important Hyperparameters\n",
    "X=x_train\n",
    "y=y_train\n",
    "\n",
    "inputs = X.shape[1]\n",
    "wandb.config.epochs = 50\n",
    "wandb.config.batch_size = 10\n",
    "wandb.config.learning_rate=.1\n",
    "\n",
    "# Create Model\n",
    "model = Sequential()\n",
    "model.add(Dense(64, activation='relu', input_shape=(inputs,)))\n",
    "model.add(Dense(64, activation='relu'))\n",
    "model.add(Dense(1))\n",
    "\n",
    "# optimizer \n",
    "adam = Adam(learning_rate=wandb.config.learning_rate)\n",
    "\n",
    "# Compile Model\n",
    "model.compile(optimizer='adam', loss='mse', metrics=['mse', 'mae'])\n",
    "\n",
    "# Fit Model\n",
    "\n",
    "model.fit(X, y, \n",
    "          validation_split=0.33, \n",
    "          epochs=wandb.config.epochs, \n",
    "          batch_size=wandb.config.batch_size, \n",
    "          callbacks=[WandbCallback()]\n",
    "         )"
   ]
  },
  {
   "cell_type": "markdown",
   "metadata": {},
   "source": [
    "## Challenge\n",
    "\n",
    "Try to apply RandomSearchCV to your module project today. "
   ]
  },
  {
   "cell_type": "markdown",
   "metadata": {},
   "source": [
    "# Review\n",
    "* <a href=\"#p1\">Part 1</a>: Describe the major hyperparemeters to tune\n",
    "    - Activation Functions\n",
    "    - Optimizer\n",
    "    - Number of Layers\n",
    "    - Number of Neurons\n",
    "    - Batch Size\n",
    "    - Dropout Regulaization\n",
    "    - Learning Rate\n",
    "    - Number of Epochs\n",
    "    - and many more\n",
    "* <a href=\"#p2\">Part 2</a>: Implement an experiment tracking framework\n",
    "    - Weights & Biases\n",
    "    - Comet.ml\n",
    "    - By Hand / GridSearch\n",
    "* <a href=\"#p3\">Part 3</a>: Search the hyperparameter space using RandomSearch\n",
    "    - Sklearn still useful (haha)\n",
    "    - Integration with Wieghts & Biases\n",
    "* <a href=\"#p4\">Part 4</a>: Discuss emerging hyperparameter tuning strategies\n",
    "    - Bayesian Optimization\n",
    "    - Hyperopt\n",
    "    - Genetic Evolution"
   ]
  },
  {
   "cell_type": "markdown",
   "metadata": {},
   "source": [
    "# Sources"
   ]
  },
  {
   "cell_type": "markdown",
   "metadata": {},
   "source": [
    "## Additional Reading\n",
    "- https://machinelearningmastery.com/grid-search-hyperparameters-deep-learning-models-python-keras/\n",
    "- https://blog.floydhub.com/guide-to-hyperparameters-search-for-deep-learning-models/\n",
    "- https://machinelearningmastery.com/dropout-regularization-deep-learning-models-keras/\n",
    "- https://machinelearningmastery.com/introduction-to-weight-constraints-to-reduce-generalization-error-in-deep-learning/\n",
    "- https://machinelearningmastery.com/how-to-configure-the-number-of-layers-and-nodes-in-a-neural-network/"
   ]
  }
 ],
 "metadata": {
  "kernelspec": {
   "display_name": "Python 3",
   "language": "python",
   "name": "python3"
  },
  "language_info": {
   "codemirror_mode": {
    "name": "ipython",
    "version": 3
   },
   "file_extension": ".py",
   "mimetype": "text/x-python",
   "name": "python",
   "nbconvert_exporter": "python",
   "pygments_lexer": "ipython3",
   "version": "3.7.3"
  }
 },
 "nbformat": 4,
 "nbformat_minor": 4
}
